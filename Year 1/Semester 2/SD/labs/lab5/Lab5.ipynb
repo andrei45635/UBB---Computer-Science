{
 "cells": [
  {
   "cell_type": "code",
   "execution_count": 10,
   "metadata": {},
   "outputs": [
    {
     "data": {
      "text/html": [
       "<html><script type=\"math/tex; mode=display\">\\newcommand{\\Bold}[1]{\\mathbf{#1}}\\frac{v_{0} \\sin\\left(t w_{0}\\right)}{w_{0}}</script></html>"
      ],
      "text/plain": [
       "v_0*sin(t*w_0)/w_0"
      ]
     },
     "metadata": {},
     "output_type": "display_data"
    },
    {
     "data": {
      "text/html": [
       "<html><script type=\"math/tex; mode=display\">\\newcommand{\\Bold}[1]{\\mathbf{#1}}\\frac{v_{0} \\sin\\left(t w_{0}\\right)}{w_{0}}</script></html>"
      ],
      "text/plain": [
       "v_0*sin(t*w_0)/w_0"
      ]
     },
     "metadata": {},
     "output_type": "display_data"
    },
    {
     "data": {
      "text/html": [
       "<html><script type=\"math/tex; mode=display\">\\newcommand{\\Bold}[1]{\\mathbf{#1}}t v_{0}</script></html>"
      ],
      "text/plain": [
       "t*v_0"
      ]
     },
     "metadata": {},
     "output_type": "display_data"
    }
   ],
   "source": [
    "reset()\n",
    "t=var('t')\n",
    "v_0=var('v_0')\n",
    "w_0=var('w_0')\n",
    "x=function('x')(t)\n",
    "eqd=diff(x,t,2)==-((w_0)^2)*x\n",
    "assume(w_0>0)\n",
    "sol1 = desolve(eqd, [x,t],ics=[0,0,v_0])\n",
    "show(sol1)\n",
    "forget()\n",
    "assume(w_0<0)\n",
    "sol2 = desolve(eqd, [x,t],ics=[0,0,v_0])\n",
    "show(sol2)\n",
    "forget()\n",
    "assume(w_0==0)\n",
    "sol3 = desolve(eqd, [x,t],ics=[0,0,v_0])\n",
    "show(sol3)\n",
    "forget()"
   ]
  },
  {
   "cell_type": "code",
   "execution_count": null,
   "metadata": {},
   "outputs": [],
   "source": []
  }
 ],
 "metadata": {
  "kernelspec": {
   "display_name": "SageMath 9.1",
   "language": "sage",
   "name": "sagemath"
  },
  "language_info": {
   "codemirror_mode": {
    "name": "ipython",
    "version": 3
   },
   "file_extension": ".py",
   "mimetype": "text/x-python",
   "name": "python",
   "nbconvert_exporter": "python",
   "pygments_lexer": "ipython3",
   "version": "3.7.3"
  }
 },
 "nbformat": 4,
 "nbformat_minor": 2
}
